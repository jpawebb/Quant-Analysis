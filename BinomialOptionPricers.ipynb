{
  "nbformat": 4,
  "nbformat_minor": 0,
  "metadata": {
    "colab": {
      "name": "BinomialOptionPricers.ipynb",
      "provenance": [],
      "collapsed_sections": [],
      "authorship_tag": "ABX9TyMg6m6oNCoSQS/1uGr5PNTq"
    },
    "kernelspec": {
      "name": "python3",
      "display_name": "Python 3"
    }
  },
  "cells": [
    {
      "cell_type": "code",
      "metadata": {
        "id": "kVdJdt-Xdz_Y"
      },
      "source": [
        "import numpy as np"
      ],
      "execution_count": null,
      "outputs": []
    },
    {
      "cell_type": "code",
      "metadata": {
        "id": "RAIKFchRdeBS"
      },
      "source": [
        "# My pricer, not fully working\n",
        "def BOPM(vol, r, T, K, S0, n, print_array=False, call=True):\n",
        "  dt = T/n\n",
        "  u = np.exp(vol * np.sqrt(dt))\n",
        "  d = u ** - 1\n",
        "  p = (np.exp(u*dt)-d)/(u-d)\n",
        "\n",
        "  # Price tree \n",
        "  tree = np.zeros([n+1, n+1])\n",
        "\n",
        "  for i in range(n+1):\n",
        "    for j in range(i+1):\n",
        "      tree[j, i] = S0*(d**j)*(u**(i-j))\n",
        "  \n",
        "  # Option value\n",
        "  option = np.zeros([n+1, n+1])\n",
        "  if call:\n",
        "    option[:, n] = np.maximum(np.zeros(n+1), tree[:, n]-K)\n",
        "  else:\n",
        "    option[:, n] = np.maximum(np.zeros(n+1), K-tree[:, n])\n",
        "\n",
        "\n",
        "\n",
        "  # Option price at t=0\n",
        "  for i in np.arange(n-1, -1, -1):\n",
        "    for j in np.arange(0, i+1):\n",
        "      option[j, i] = np.exp(-r*dt)*(p*option[j, i+1] + (1-p)*option[j+1, i+1])\n",
        "\n",
        "  if print_array:\n",
        "    return \"Price at t=0: ${}\".format(round(option[0, 0], 4)), tree, option, \"Max payoff = ${}\".format(round(np.maximum(option[j, n], 4), 0))\n",
        "  else:\n",
        "    return \"Price at t=0: ${}\".format(round(option[0, 0], 4)), \"Max payoff = ${}\".format(np.maximum(round(option[j, n], 4), 0))\n"
      ],
      "execution_count": null,
      "outputs": []
    },
    {
      "cell_type": "code",
      "metadata": {
        "id": "wiNgof6F8suJ"
      },
      "source": [
        "# Print tree\n",
        "import numpy as np\n",
        "import math as m\n",
        "import timeit\n",
        "\n",
        "def bop(n,t,S,v):\n",
        "    dt = t/n\n",
        "    u = m.exp(v*m.sqrt(dt))\n",
        "    d = 1/u\n",
        "    Pm = np.zeros((n+1, n+1))\n",
        "    for j in range(n+1):\n",
        "        for i in range(j+1):\n",
        "            Pm[i,j] = S*m.pow(d,i) * m.pow(u,j-i)\n",
        "    return Pm"
      ],
      "execution_count": 1,
      "outputs": []
    },
    {
      "cell_type": "code",
      "metadata": {
        "id": "_u5-8f7j81D6"
      },
      "source": [
        "# Test tree print\n",
        "n = 5\n",
        "t = 1/2\n",
        "S = 102\n",
        "v = 0.409\n",
        "x = bop(n,t,S,v)\n",
        "\n",
        "\n",
        "print('n = 1:\\n',np.matrix(x.astype(int)))"
      ],
      "execution_count": null,
      "outputs": []
    },
    {
      "cell_type": "code",
      "metadata": {
        "id": "Jeu9ApL_-v4B"
      },
      "source": [
        "# Pure Cython BOPM with Hedge ratio calculator\n",
        "\"\"\"Pure Python binomial options pricing using a Jarrow-Rudd model.\n",
        "To use this interactively, just do::\n",
        "    >>> from binomial import jarrow_rudd\n",
        "    >>> jarrow_rudd(100.0, 100.0, 1.0, 0.3, 0.03, -1, True, 100)\n",
        "    10.627682380924412\n",
        "\"\"\"\n",
        "import numpy as np\n",
        "import math\n",
        "\n",
        "def jarrow_rudd(s, k, t, v, rf, cp, am=False, n=100):\n",
        "    \"\"\"Price an option using the Jarrow-Rudd binomial model.\n",
        "    \n",
        "    s : initial stock price\n",
        "    k : strike price\n",
        "    t : expiration time\n",
        "    v : volatility\n",
        "    rf : risk-free rate\n",
        "    cp : +1/-1 for call/put\n",
        "    am : True/False for American/European\n",
        "    n : binomial steps\n",
        "    \"\"\"\n",
        "    #Basic calculations\n",
        "    h = t/n\n",
        "    u = math.exp((rf-0.5*math.pow(v,2))*h+v*math.sqrt(h))\n",
        "    d = math.exp((rf-0.5*math.pow(v,2))*h-v*math.sqrt(h))\n",
        "    drift = math.exp(rf*h)\n",
        "    q = (drift-d)/(u-d)\n",
        "    \n",
        "    # Hedge Ratio\n",
        "    cu = np.maximum((u * s) - k, 0)\n",
        "    cd = np.maximum((d * s) - k, 0)\n",
        "    m = ((cu - cd)/((u - d) * s)) - 1\n",
        "\n",
        "    #Process the terminal stock price\n",
        "    stkval = np.zeros((n+1,n+1))\n",
        "    optval = np.zeros((n+1,n+1))\n",
        "    stkval[0,0] = s\n",
        "    for i in range(1,n+1):\n",
        "        stkval[i,0] = stkval[i-1,0]*u\n",
        "        for j in range(1,i+1):\n",
        "            stkval[i,j] = stkval[i-1,j-1]*d\n",
        "\n",
        "    #Backward recursion for option price\n",
        "    for j in range(n+1):\n",
        "        optval[n,j] = max(0,cp*(stkval[n,j]-k))\n",
        "    for i in range(n-1,-1,-1):\n",
        "        for j in range(i+1):\n",
        "            optval[i,j] = (q*optval[i+1,j]+(1-q)*optval[i+1,j+1])/drift\n",
        "            if am:\n",
        "                optval[i,j] = max(optval[i,j],cp*(stkval[i,j]-k))\n",
        "\n",
        "    print('Option Price: ', round(optval[0, 0], 3))\n",
        "    print('Hedge Ratio: ', round(m, 4))\n",
        "    \n",
        "    return stkval.shape\n"
      ],
      "execution_count": null,
      "outputs": []
    },
    {
      "cell_type": "code",
      "metadata": {
        "id": "BQzY_g2IsTzz"
      },
      "source": [
        "jarrow_rudd(50, 52, 0.5, 0.15, 0.06, 1, False)"
      ],
      "execution_count": null,
      "outputs": []
    },
    {
      "cell_type": "code",
      "metadata": {
        "id": "fF1DHjq8r7O6"
      },
      "source": [
        "def hedge(u, d, s, k):\n",
        "  cu = np.maximum((u * s) - k, 0)\n",
        "  cd = np.maximum((d * s) - k, 0)\n",
        "  m = ((cu - cd)/((u - d) * s)) - 1\n",
        "\n",
        "  return m"
      ],
      "execution_count": null,
      "outputs": []
    },
    {
      "cell_type": "code",
      "metadata": {
        "id": "8YhzJG3esKib"
      },
      "source": [
        "hedge(1.05, 0.95, 72, 68)"
      ],
      "execution_count": null,
      "outputs": []
    },
    {
      "cell_type": "code",
      "metadata": {
        "id": "oFY1DsbH-3ro"
      },
      "source": [
        "jarrow_rudd(100, 95, 1, 0.2, 0.07, -1, True, 12)"
      ],
      "execution_count": null,
      "outputs": []
    },
    {
      "cell_type": "code",
      "metadata": {
        "id": "zYp59EN0MJcj"
      },
      "source": [
        "# Exotic pricer\n",
        "def exotic_option_pricer(s0, k, u, d, r, T, cp):\n",
        "  \"\"\"Price an exotic option using the binomial model.\n",
        "    \n",
        "    s0 : initial stock price\n",
        "    k : strike price ** 2\n",
        "    u : upfactor\n",
        "    d : downfactor\n",
        "    r : risk-free rate\n",
        "    cp : +1/-1 for call/put\n",
        "    \"\"\"\n",
        "  \n",
        "  # Prefactors\n",
        "  eu = np.maximum((((u * s0) ** 2) - k), 0)\n",
        "  ed = np.maximum((((d * s0) ** 2) - k), 0)\n",
        "\n",
        "  # m shares and b mma\n",
        "  m = (eu - ed) / ((u * s0) - (d * s0))\n",
        "  b = (((u * ed) - (d * eu)) / (u - d)) * np.exp(-r * T)\n",
        "  v = m * s0 + b\n",
        "\n",
        "\n",
        "  return v\n",
        "\n",
        "exotic_option_pricer(50, 2500, 1.16038286, 0.85963276, 0.04, 0.25, 1)\n",
        "# exotic_option_pricer(100, 10000, 1.2, 0.9025, 0.05, 1, 1)"
      ],
      "execution_count": null,
      "outputs": []
    },
    {
      "cell_type": "code",
      "metadata": {
        "id": "IWEZBXdgV0k-"
      },
      "source": [
        "exotic_option_pricer(100, 10, 1.2, 0.8, 0.02, 0.25, 1)"
      ],
      "execution_count": null,
      "outputs": []
    }
  ]
}