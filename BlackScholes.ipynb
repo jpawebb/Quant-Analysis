{
  "nbformat": 4,
  "nbformat_minor": 0,
  "metadata": {
    "colab": {
      "name": "BlackScholes.ipynb",
      "provenance": [],
      "authorship_tag": "ABX9TyOHY7SxwNFyI9zwpIZDeeZr"
    },
    "kernelspec": {
      "name": "python3",
      "display_name": "Python 3"
    },
    "language_info": {
      "name": "python"
    }
  },
  "cells": [
    {
      "cell_type": "code",
      "metadata": {
        "id": "7aOJnfhDQ-Hh"
      },
      "source": [
        "import numpy as np\n",
        "from scipy.stats import norm"
      ],
      "execution_count": null,
      "outputs": []
    },
    {
      "cell_type": "code",
      "metadata": {
        "id": "VO7puFBERH0q"
      },
      "source": [
        "def blackScholes(S, K, r, sigma, n, cp='C'):\n",
        "  T = n/365                                     # Convert days to years\n",
        "  \n",
        "  # Constants\n",
        "  d1 = (np.log(S/K) + (r + sigma ** 2/2) * T)/(sigma * np.sqrt(T))\n",
        "  d2 = d1 - sigma * np.sqrt(T)\n",
        "\n",
        "  try:                                          # Check call or put\n",
        "    if cp == 'C':\n",
        "      price = S * norm.cdf(d1, 0, 1) - K*np.exp(-r * T)*norm.cdf(d2, 0, 1)\n",
        "    elif cp == 'P':\n",
        "      price = K*np.exp(-r*T)*norm.cdf(-d2, 0, 1) - S * norm.cdf(-d1, 0, 1)\n",
        "    print(f'Option Price is ${round(price, 2)}')\n",
        "    return \n",
        "  except:\n",
        "    print('Define call or put') \n"
      ],
      "execution_count": null,
      "outputs": []
    },
    {
      "cell_type": "code",
      "metadata": {
        "colab": {
          "base_uri": "https://localhost:8080/"
        },
        "id": "wAODPqB3Tn70",
        "outputId": "f0379a8f-c80a-438a-968e-e8c0037c0198"
      },
      "source": [
        "blackScholes(159, 150, 0.02, 0.2, 90, 'C')"
      ],
      "execution_count": null,
      "outputs": [
        {
          "output_type": "stream",
          "text": [
            "Option Price is $12.17\n"
          ],
          "name": "stdout"
        }
      ]
    }
  ]
}