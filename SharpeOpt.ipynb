{
  "nbformat": 4,
  "nbformat_minor": 0,
  "metadata": {
    "colab": {
      "name": "SharpeOpt.ipynb",
      "provenance": [],
      "toc_visible": true,
      "authorship_tag": "ABX9TyOxiqZwR+o6vl/urY8ei2VG"
    },
    "kernelspec": {
      "name": "python3",
      "display_name": "Python 3"
    }
  },
  "cells": [
    {
      "cell_type": "code",
      "metadata": {
        "id": "j7DkIlQJozK0"
      },
      "source": [
        "# Sharpe Optimization Function \n",
        "import numpy as np\n",
        "from scipy import optimize\n",
        "import pandas as pd"
      ],
      "execution_count": 1,
      "outputs": []
    },
    {
      "cell_type": "markdown",
      "metadata": {
        "id": "8GmIEbslqSiC"
      },
      "source": [
        "# **Sharpe Ratio = (rx - Rf)/(sigma)** \n",
        "# where,\n",
        "# **rx** = mean return on investment x\n",
        "# **Rf** = risk free rate\n",
        "# **sigma** = standard deviation on x\n",
        "# Model for Sharpe ratio wrt. Portfolio optimisation: (iff. 0 <= Wi <= 1)\n",
        "\n",
        "![Screenshot 2021-03-09 154902.jpg](data:image/jpeg;base64,/9j/4AAQSkZJRgABAQEAeAB4AAD/2wBDAAMCAgMCAgMDAwMEAwMEBQgFBQQEBQoHBwYIDAoMDAsKCwsNDhIQDQ4RDgsLEBYQERMUFRUVDA8XGBYUGBIUFRT/2wBDAQMEBAUEBQkFBQkUDQsNFBQUFBQUFBQUFBQUFBQUFBQUFBQUFBQUFBQUFBQUFBQUFBQUFBQUFBQUFBQUFBQUFBT/wAARCAChAUUDASIAAhEBAxEB/8QAHwAAAQUBAQEBAQEAAAAAAAAAAAECAwQFBgcICQoL/8QAtRAAAgEDAwIEAwUFBAQAAAF9AQIDAAQRBRIhMUEGE1FhByJxFDKBkaEII0KxwRVS0fAkM2JyggkKFhcYGRolJicoKSo0NTY3ODk6Q0RFRkdISUpTVFVWV1hZWmNkZWZnaGlqc3R1dnd4eXqDhIWGh4iJipKTlJWWl5iZmqKjpKWmp6ipqrKztLW2t7i5usLDxMXGx8jJytLT1NXW19jZ2uHi4+Tl5ufo6erx8vP09fb3+Pn6/8QAHwEAAwEBAQEBAQEBAQAAAAAAAAECAwQFBgcICQoL/8QAtREAAgECBAQDBAcFBAQAAQJ3AAECAxEEBSExBhJBUQdhcRMiMoEIFEKRobHBCSMzUvAVYnLRChYkNOEl8RcYGRomJygpKjU2Nzg5OkNERUZHSElKU1RVVldYWVpjZGVmZ2hpanN0dXZ3eHl6goOEhYaHiImKkpOUlZaXmJmaoqOkpaanqKmqsrO0tba3uLm6wsPExcbHyMnK0tPU1dbX2Nna4uPk5ebn6Onq8vP09fb3+Pn6/9oADAMBAAIRAxEAPwD9U6KKKACiiigAooooAKKKKACiiigAorz/AMPfFy28W/E/WvCejWLXtpokI/tHVxLiKG5Yjbbqu35m2kknIxgjFegUAFFFFABRRVaPU7Oa7e1ju4JLpBloVkUuo9SucigCzRVVdUsmvWsxdwG7UZNuJV8wD125zVqgAooooAKKKKACiiigAooooAKKKKACiiigAooooAKKKKACiiigAoorhfi58T/+FS6FZa5c6TLqOjfbI4NRuYZNpsYXyBOV2neA+xSMj72c8YIB3VFQWV7BqVnBd2sqz206LJFLGcq6kZBB9CDU9ABRRRQAUUUUAFFFFABRRRQAUUUUAFePftUfGKT4M/Ce71CwTz/EOpTJpekWy8tJcy5C8DnAAJz24r2GvjHxdfSfHT/goJ4d8MFvO8NfDnTW1abbyrX8rBVRx0OFQ4+poA+g/wBnn4TD4N/DDTNEuJftetyg3erXzHc91eSHfNIWPJy5Y8+tel0UUAFFFFABXxv8U9Nj+Gvxk0b45aPbpb2D63/wjuvxxKEDW7sbcSPjri4MTZPYV9aeJrrU7PQb2XRrFNS1NYz5FtJOIVdscZcg4/KvOv8AhW198QvgDqHhTxbpUGk6xq1lKt3DDci4SO6cEiVXAGcSYcemKALng7wV4b1T4oeJvG0ei2C60Gj05dSjgTzJI1QSB94GTnzSM56KK9Nrhvgj4I1H4c/C3QPD2r3v9papYweVcXnGZiGIVj77do/Cu5oAKKKKACiiigAooooAKKKKACiiigAooooAKKKKACiiigAooooAKz/EGh2XibQ7/SdRgW5sb2FoJonGQysMEVoUUAfL/wCyf4s1DwH4z8XfAzxFNLLd+GZPtWhXEzE/aNLlO+NQx5Yx7jH7BBX1BXxt+23cSfBz4tfCP40WbG2isNRTQ9bm/h+wTvtJI7kGRsZr7Ds7qO+tILmI7opkWRD6qRkUATUUUUAFFFFABRRRQAUUUUAFFFFADJpkgieSRgkaDczMcAAd6+KP+CcBfx1q/wAZvijOhM3iTxG1sJG6kW4Ix/5Er6Y/aG8Qt4T+BHxB1lGCyWOg3twmTj5lhcgfmK8T/wCCYujHS/2SfD9yVCtql1PqJwOvmFef/HaAPq6iiigAooooA+Q/Dv7V3xV8TfHLxT8ME8E+EdF1zSAJrVdZ1y5iOo25JHmw7LZgQMDIODz3r1X+2v2gf+hS+Hn/AIUN7/8AIdcj+2R8ANS8faTpnj/wK/8AZ3xN8IsbvTrqHCtdRjl7dz0YHAwG6c4613P7MP7QWm/tGfDG18Q20RsNWgb7Lq2mSArJZ3S8SRsp5HzA4z2oA8s+LXx4/aQ+FOlS6mfg14c8UWEA3zvoWvzSNGg6ttkgQnA7DJr6O+HvjSz+IngnRfEun5Fnqlql1GrdQGGcH3roCAwIIyD1rN8P+G9P8LWLWel262lo0rSiFM7ELHJCj+Eew4FAHmX7RH7SWnfs46Vp+p6x4W17XNPvJ47YXGjpAyxyu4REbzJUOSSOgI5rpNU+KU+k/DE+MpfCOuNtg+0SaMggN6iYySR5uzgej14b/wAFON9v+yhq9/EuZrDVNOulbGSoS6jYn8hXq3jS+m8SfDu38N2LsJr/AEXzbu4ibDW8PkjnPZmJ4z1w3pQA79nn9oKx/aM8HR+KNH8Na5omiz5+zXGsJAv2jBwSojlc/nipfCvxwm8VfEbVvCSeBPE1iNMcJPrF0tt9jyRkYKzFzkEHG3PNeFf8E9fFJ8N/sX6CHUSX1vqN9p1rb8sZJFuXjQYHOOAT6AE9q+mrf7L8NfBV5qN8txcGBHvb57eEzTyueWwqjLkDCgDnCigDrKKitbhbq3jmVXVZFDBZFKsM+oPQ1wH7QHxWPwV+EniHxbHbJe3llARZ2smds1w3yxIcc4LlRxzzQB6JRXjvxr+N2ofCX4Nad4oXTre81/UZbW0trFt3lNcTc7eDnAAbv2r0zxJ4ktvCekHUL2O4liEsUJWzgeZ90kiouFUE4ywyewyT0oA1qKajb1VgCARnkYNOoAKKKKACvC/Fv7VUHhX4v23w4Hw+8Warr91bteWzWKWhilhX70gLXCkDII5APBr3SvkP4e6lq/jP9sD4p+M7HQG8QWvh22tvDFjLHdxwhGVTPLjd1z9oUfhQB7CP2jdL0nxBo+k+LfD2teB5NYn+y6fca2kPk3E+CwiDRSPhiFYjdjoa9br4z8TeEfGn7Y3xS0qy8Q2ll4N8E+BNZS9udKS+jutQuLxA6xlyhPlpyxGQMjPWvrXxT4q0zwbo8mp6tcC2tEZU3YyzuxwqKOrMxIAA5JNAGvRWH4L8ZaX4/wDDdpruiztcabdAtFIyFCcHB4PI5rcoAKKKKAPnr9vzwGnxD/ZL+INg6bzZ6e+pqO+63BlGPxSuj/Y/8fP8TP2a/APiCaXzbq402NZ+eVdcqVPvgCvQPiJoI8UeAfEWjldwv9PntiPXfGV/rXyz/wAEqdZOofsz3dg7fPpXiG9sgueiLs2/1/KgD7IooooAKKKKACiiigAooooAKKKKAPn79vbUn0v9kv4iyI20yabJCfo6lSP1pn/BP23Fv+xv8K8DG/SFc8dy7VW/4KEWR1D9krx3F9oS1X7MGaWQMQFByeAM9K3f2I4ba3/ZP+GMdpcpeWy6QgSeMMFcbm5AYA/nQB7hRRRQAUUUUAY/i3xVpvgvw9e6xq1wtvY2ybnZu/ooHck8Yrx79m74Px+G/EHjD4jz6b/YGo+M7gXP9jR8JbQj7jOP+ergBnx0Ykc9a8m8dftGab4g+NdxD4p8LeNJPCfhefGn2dr4Yvp4tQuv+fhysJBRRwo/2myOlehn9ubwjg48JePifT/hEdR/+MUAfR9IrBs4IODg4r4p+K3/AAUQ1PS9Fng8CfB3x9rmtSrtgmvPD11DbRseAXygbH0FfT/wV0XXND+GuiR+J7hrrxLPCLjU5T0Ny4BfAHAGew4oA83/AG8PCN944/Za8b6RptpJfX8tsGht4V3M7qcgAeuRXa/CHwnqWl/C+0fX0X/hIr3TkS7VTu8sCPCxA9wuT+LGvS6KAPkj9g/4Y+IPDPhnXl8RWf2LTNP8RamdHtXB3HdcyZmI7cEqOuQc17P8cPiBrfgWx0k6PBbzz6hfQ6fDDOm83EsrbVQc/KOOW569K9QrjfH3wztfH2o6Dez31xZz6PM80Hk9CzBRkg9xt4PUZ4oAh+J3xa0v4T6Vot7q1jqd+mqahFpsS6VbCdkkkDEM43DCDact9K8K/br8Vpb3vwi8JyxyXFlrPiuzudQiiQuVtbaVJndgP4AEOfYGvqi2t0tbeOGPOyNdoyc14/ffDXW9d/ao03xrewKnh3Q9Aa0sJPMUl7qSSQSHbnI/duBnGOKAPN/2hPEKeM/iJ8IYbCymvfBWm6q2o31/5TeR58aAQQ9Mkne/bAwK9G8Y/FLxNo+peALSKwt47rxJcxwtp8ybnX90Zpctn5diI/ODkqOma9nriPFnwts/FfjPSPEct9cW11psLQRxx/dKscsfYkZGRzgkd6AO2rg/GPwI8BfEDWm1fxD4atdU1JkWM3ErOGKr0HDAcV3caCNFRfuqMCnUAeTf8MpfCb/oSbH/AL+S/wDxdd34L8C6D8O9HOleHNNi0rTzK032eEsV3sACeST2H5VvUUAcr8SfiRovwt8L3Wta3dfZ4I43MaiNnMrhSwQBQeTivAP+CeOoWGpfCXWNRW4d9b1rWrvV7+3midJIS77Iw24D+CNOlfVNFAHx3+zxqmo+Cv2j/wBoebxRa3cd3qmvWw0S3WNibq1/ehWTtgAgnnpXoH7UGna54r8WfC3wppmp29jHqWtpfNFLamb57LF0GPzrkDYOO+OtfQZ6HjNeIeGZNU+KXxp07xNeaDf6Dpnhu1u7aGPUFAd7ppZYSy4OCrRbXBHZgDzkUAe02VsLO1ihAjG0YPlIEXPcgdqnoooAKKKKACvgP/gkjcvH4W+LGmuf+PXxGX2+m9pe3/Aa+/K+Cv8AgmPYW+heOv2gtHj1CG8ntdZs3ljiRwYt5uiMlgM5wemehoA+9aKKKACiiigAooooAKKKKACiiigD53/4KBf8mj/EL/rwarH7Af8AyZt8J/8AsDJ/6G9Vf+CgrBP2R/iET/z4sOlW/wBgQFf2N/hOD/0Bk/8AQ3oA9/ooooAKiurqKyt5LieRYoY1LvIxwFA5JNS1g+O7g2Xg/V7xbBtUktLZ7mOyT707opZUH1Ix+NAFXwbeWtzBqmpQ+JG1yxu7x5IWd08u2XAHkoQBwOvOTzXQf2ha/wDPzD/38H+NeB/Df4f3mofAmz0abw9pniDUGuftV3H4kLxwTTtnc+AjHIGwDj1qv/woW9/6JT8Mf/Aif/5GoA9I+PHiTX/Cvwr8Qa/4avLK3utPspbnddQtKG2rkBdrDB9+a3PhhrN34h+Hnh3U76Tzby7so5pXxjcxXJNec/G4ReEf2Y/EWl3GnW+nXEmkz28On6JBLcQhyDhYwqbsc91HJNdb8A9Wt9W+Efhdrfzh5VjFG6zwSQsrBeQVdQf0oA9BooooAKKKKACiiigAooooAKKKKACiiigAooooAKKKKACiiigAooooAK/Pv/gmj/ycH+1T/wBhXSf/AG/r9BK/Pr/gmed37QH7VDD7p1XScf8Ak/QB+gtFFFAHP+ONPuNT0CW3ivDp8O5ZLm5VsMsKsGcA9sqCuR0zXzZ+zXa33i74M634r8aa7fXPhxb6/fRoBdyR/Z7SORk3NKrB3JZG+8xAAGK+iviloureJPhv4n0jQnhi1fUNOuLS2kncqiPJGyBiQDjGc9O1ebeIPghrNt+ydP8ADDw3cW0GsyaKdPW4mcrGsrgmR8gE/eZj0oA8q+Ds2r6v+xenjn4g6xe3F5Ho0t1pksV3JA0MRQ+SWKMN7klcl88iu4l+NWs/Bv8AYv0bx14gDav4jGi2zQxzDme5mRRAj4x1LID3611PxW+B1z4k/Z6X4deHJ4bUQR2cMcczFI5Y4Zo3aNmAOAQh5waofE34Cal8T/hHe+Hru6hs7831nqNnZq5ktrdrVkaKENgHY3lLk4/iPFAHl/x40LXPBv7Pemao/iDVZPiJ4kv7S0+3wXbopmny5jWIHYqhUI4UHjrX0zqHhO71BNI0pryYaJawj7SVlZZrllGFUuDuAzhsggkjBOCRXk3xO+EPj74i6j8P9YL6XZv4T1SK+Gii4ZobrbGy72l2ZBGeF2Hqea6a98LfE611q1Fhqun3GjXOmyQX0MrNHJDdyMC08ZwdwUFsKcdhkdaAPGPhD4R8Q/Hfwx8TBD4w1bRtHh12bTvDc8NwzSWsUaJ5j7jkyZkLj592NvGK+wbWFre1iieRpnRQpkbGWIHU4rxD4I/B3xR8M/ANh4Iu7izOn2t5NcT6xbTN598rytIQ0W3CE79p+Y/dB9q9zAwAKAPnj/goF/yaP8Qv+vBqsfsB/wDJm3wn/wCwMn/ob1V/4KCME/ZH+IOTjNiwq3+wICv7G/wnB6/2Mn/ob0Ae/wBeN337UGi2F7cWzeCviLK0MjRmSHwbfujEHGVYR4YccEda9kooA8V/4aq0P/oRviV/4RWof/G6P+GqtD/6Eb4lf+EVqH/xuvaqKAPFf+GqtD/6Eb4lf+EVqH/xuj/hqrQ/+hG+JX/hFah/8bqHxFrnxG8dfFjX/DngvxPpfhTStCs7WSW6vtF/tE3M0xl3IP30ezYI19c7+2Km/wCFf/HP/or/AId/8Ir/AO7aAD/hqrQ/+hG+JX/hFah/8bo/4aq0P/oRviV/4RWof/G6P+Ff/HP/AKK/4d/8Ir/7to/4V/8AHP8A6K/4d/8ACK/+7aAD/hqrQ/8AoRviV/4RWof/ABuj/hqrQ/8AoRviV/4RWof/ABuj/hX/AMc/+iv+Hf8Awiv/ALto/wCFf/HP/or/AId/8Ir/AO7aAD/hqrQ/+hG+JX/hFah/8bo/4aq0P/oRviV/4RWof/G6P+Ff/HP/AKK/4d/8Ir/7to/4V/8AHP8A6K/4d/8ACK/+7aAD/hqrQ/8AoRviV/4RWof/ABuj/hqrQ/8AoRviV/4RWof/ABuj/hX/AMc/+iv+Hf8Awiv/ALto/wCFf/HP/or/AId/8Ir/AO7aAD/hqrQ/+hG+JX/hFah/8bo/4aq0P/oRviV/4RWof/G6P+Ff/HP/AKK/4d/8Ir/7to/4V/8AHP8A6K/4d/8ACK/+7aAD/hqrQ/8AoRviV/4RWof/ABuj/hqrQ/8AoRviV/4RWof/ABuj/hX/AMc/+iv+Hf8Awiv/ALto/wCFf/HP/or/AId/8Ir/AO7aAD/hqrQ/+hG+JX/hFah/8bo/4aq0P/oRviV/4RWof/G6P+Ff/HP/AKK/4d/8Ir/7to/4V/8AHP8A6K/4d/8ACK/+7aAD/hqrQ/8AoRviV/4RWof/ABuj/hqrQ/8AoRviV/4RWof/ABuj/hX/AMc/+iv+Hf8Awiv/ALto/wCFf/HP/or/AId/8Ir/AO7aAD/hqrQ/+hG+JX/hFah/8bo/4aq0P/oRviV/4RWof/G6P+Ff/HP/AKK/4d/8Ir/7to/4V/8AHP8A6K/4d/8ACK/+7aAD/hqrQ/8AoRviV/4RWof/ABuj/hqrQ/8AoRviV/4RWof/ABuj/hX/AMc/+iv+Hf8Awiv/ALto/wCFf/HP/or/AId/8Ir/AO7aAD/hqrQ/+hG+JX/hFah/8br0nwL42tvH/h9NWtdN1fSoWkaP7PrenS2NwCvcxSAMAexxzXm3/Cv/AI5/9Ff8O/8AhFf/AHbXpPgXS/Emj+H0t/FWvWviPVxIzNfWenfYYyhPyr5XmSYI9d3NAHQ1+ff/AATR/wCTg/2qf+wrpP8A7f1+glfn1/wTPIb9oD9qhhyp1XScH/wPoA/QWiiigAooooAKKKKACiiigAooooA+d/8AgoF/yaP8Qv8ArwarH7Af/Jm3wn/7Ayf+hvVL/goVdRWv7IvxAaaRY1az2At3Y8Afiav/ALA8bw/sc/ChHUq40ZMqf99qAPfqKKKACiiuI+NniifwZ8J/Fer2h/0+306drRR1afYfLUe5bAoA8X0/xh4s8M/A/wAe/EzwNolp4m1nU9XuNWtbC9d1WW1CqmxSvOQUYj6mk+Bfxu+Lnx/+HOmeL/Dn/Cufst2n721klvxLayjh4pBt4ZTke+OK92+GPhm38K/DnQdGhTEENmoKMP7w3MMfVjXyF4+tbv8AYV+Py+OdLhkf4PeNbsQ67YxD5NKvJDxcAfwqW69gGI96APoO4l/aBjhZobf4bySAZCGW/Gfb7tef+EP2hPjFoPxw0bwZ8VPh/o+h6BrYkh07X9FuZJ4pbhRuCNknZlVc/NgnHFfTmn6hb6tYW97aSrPa3EayxSocq6sMgg/Q1X1rQbDxFarb6jbJcxJIsqBuqupyGB7H6UASaw99HpN42mRwy6isLG2S4JEbSYO0MRzjOM4r5L+BP7S/xi+N2qeKNEXSfAfhvxP4dvGtb7RNTmvftCr/AASDaCGVsHoeMc9a+wK+Qf2v/hLrngPxVpnx/wDhtC3/AAlGgjZremwjjVbDOWDAdWXGR3OevFAHrxb4+4OIvhvnt+81D/4mvKfiR8fP2g/gzqWn6j4n+HXhjVfA63CLqmsaBdTyS2sJPzOImO44HOduB3r6D+D/AMWNC+Nnw90fxh4duBPpuowrIFzlomx80bejKcg+4rrbyzg1C1ltrmFJ7eVSkkcihlYHqCKAFtbhLu3injYPHIoZWU5BBFeQ3H7WXw8tfievw9kuNa/4Stm2iyXQL1gRnG/eItuz/bzt4616xpOl22iabbWFnH5VrboI4o8k7VHQZNfK3jSQaX/wUo+HqxoFGp+DbpZG/vMjzn+QFAHsPxg/aW8CfAmbT4/GN3qViL9ljt5LfSLq6R3bom6KNhuP93Oa6u4+I2kWngWTxbKmoppEcP2h1OnT/aQn/XDZ5mfbbmvkv/go1q13qnw+0TUbQsul+H/FdgsnAIuJm3ggHtsGPrv9q+rfG13Jq01v4Xs3xcagu65kHPk2oPzkj0b/AFfUYLg9qAI/hf8AFrw/8X9DbV/Dn9otYhigk1DTLiyLY7qJkUsPccV2dYw1LRfC82j6EbiCymulaOxtCcGURgbto74BGfrWzQB45cftZfDy1+J6/D2S41r/AIStm2iyXQL1gRnG/eItuz/bzt461ofGD9pbwJ8CZtPj8Y3epWIv2WO3kt9IurpHduiboo2G4/3c5rx7xpINL/4KUfD1Y0CjU/Bt0sjf3mR5z/ICuX/4KNatd6p8PtE1G0LLpfh/xXYLJwCLiZt4IB7bBj67/agD60uPiNpFp4Fk8WypqKaRHD9odTp0/wBpCf8AXDZ5mfbbmqnwv+LXh/4v6G2r+HP7RaxDFBJqGmXFkWx3UTIpYe44qTxtdyatNb+F7N8XGoLuuZBz5NqD85I9G/1fUYLg9q17/UNH8B+G3ubyeDStG0+H55ZDtjiQDqaANiikVg6hlOVIyDXFfFP4saR8KdJtbjUEmvdQv5ha6dpdou64vZzgBEX8Rk9hzQB21FfK19+1z8SbH4kaZ4Kl+BU8Gq6paS3ti9z4kSKOeOMoHAP2c/MPMTK+9fRFv4wgstP8PjxD5Gg6xq4WNNOafzcXHll3hVwBvKhW5wMhc4oA6Gis/VvEGnaC1mNQvIrQ3lwlpb+YcebK5wqD3JrQoAK/Pv8A4Jo/8nB/tU/9hXSf/b+v0Er8+f8AgmVItz8eP2pLqI+Zby6rpQSRfutg32cfnQB+g1FFFABRRRQAUUUUAFFFFABRRRQB85f8FC9PGpfsi/ECMru2Wfm/98/Nn9K2f2GbgXX7I/wtlBJDaPGcn/ear/7Y2ivr37LvxOtowWddAvJlUDJJSFmx+lcn/wAE69WXVP2OvhwinJs7H7Kw9GViSP1oA+kaKK8u/aK+P2h/s5/DybxRratODKsFvax/fldjjp6DjJ7ZoA9RryH9oKN/EEvgbwnC5SbVtet7k4/ihtZFuJVPsUQj8a9ZtZ1uraKZfuyKGH4jNeU3En/CTftL2luVL2nhvRDdI/ZLqd3jZfr5RU/jQB6yqiNVVRhVGAK8V/aMmh+Imkv8JrGxt9X1LxFHsvROoeLTrTOWuJPRhj5B13lDwMsO6+L3jbUPh78PtW1zStA1HxNqdvHi20zS7Z55ppD0+VQTgdSa+bvhB8cLjwLpd1faz8LfiXqni3VpDc6pqJ8LXfzOTkRJ+7+WNPuqPRRkk80AfUXw98E2Hw38E6L4Y0wubDS7ZbaJpDlmA6k/U5P41vySJEpZ2VFHVmOBXzvd/tgXEMRaD4OfEy4f+5/wjN0v6mOvP/DXxn+Lv7RXxu0HQH+F/iT4bfDnT2a/1O+12zkhkv8AYNqQq7KAAWYPgDd8nXGaAPsquK+LHj608C+GHLW/9papfn7JYaVHgyXcrDG0A9sckngD6iuuvrsWFlPctHLMsKNIY4Iy8jYGcKo5J9AK+NfCHxw1W4+IWq+NPGHwl+I9xqis1ppFlH4aunh0+2B5ZSI8GSQ43N6IuMc5APd/2a/gTZ/AfwLPp0KwpqGqXcmp38dqMW8U8rF2jiGBiNSxVeBwBwK9ar56k/a8kWMlPhD8THbsv/CMXYz/AOQ68q+Jn7U3xj+ItxZeDfh78FvGfheTV7hLSbxTrmlyxw2UbnDSAMgCkDnLZHtQB9sRyJNGroyujDIZTkGvkT9o7T9et/2zPgvq3h6xlubx9PvrAzIuVt1eOUGR88YUNnHfHFfV2g6TFoOi2WnQ7vKtoliXcxY8DuT1qy9nbyXMdw8EbXEYISVkBdQeoB6igD5e/bv8GfZ/2S7+w061ku5dNura6jijyzu6uf5lq9w+FWmai2gw65r1v9m17VIY5LiAnJt12jbEccblGA2OCRnmuxu7O3v4GhuYI7iFuscyBlP4GpqAPNbH4lyal8Yh4Sl0iPfDYtfLc7sywRszIpYYwodo2Awf4a6G2+J3hi8+Il54Fh1VX8V2lmuoT6d5UgZIGIAfft2HlhwGzz0rB0H4V3ej/FPxB4tk1UTpqpjXytn7xIox8kW7+4GLtjrlzXdJounR6tJqiWFqupyRiJ7xYVEzIOil8ZI46ZoA+T/2jtP163/bM+C+reHrGW5vH0++sDMi5W3V45QZHzxhQ2cd8cVrft3+DPs/7Jd/YadayXcum3VtdRxR5Z3dXP8AMtX1C9nbyXMdw8EbXEYISVkBdQeoB6ii7s7e/gaG5gjuIW6xzIGU/gaAOO+FWmai2gw65r1v9m17VIY5LiAnJt12jbEccblGA2OCRnms/wCLXxGl8CR6eZdHTUNNvL62sGMjcySTOVCRr3YYzzgcjmvR6+ffEHinT/jp8Svh3ZeH3mvtH0e9n1fU5fLKrbywOFtw/oTIkuPpnvQB6x48+J/hj4X2GmXfijVF0i31K8j0+1Z4pJPMuHBKR4RTjIU8nA4615N4usQ37Y/hfVNclFtomm+GZX0yWdtsP2x5ZUl5PAfyiPwxXu2qaLp2uRwx6jYWt+kMgmjW6hWQI46MoYHDDJ5HPNLqGj2Grqi31lb3qxnKC4iWQKfUZHFAHgkem3fxd/ao0rxJbxbvCXgfTbi1gvcELd3ty0ZcRn+IRrAuW6fvBgnnHe3vxIk/4W/pHhJ9GSXzoZruO5LZlgRAUMpHQKW+QHOfmHFeh2dlb6fbpBawRW0CfdihQIo+gHFea6z4Hbw78Qte+I17q5XTo9O2ywrEWkht4kDuiH0LJvI6k0AWfEnxGm0j4jeGPDt3o6SW+sXE6WszNmXMKRs0oXpsG/BJIPB4r0ivB/CmpR/Fz9oSLxVpvmXPhjw/oixWV6VIja7uCxmQe4jEBP8AvV7xQAV8A/8ABKrbdap8db5TuW416ABvXabn/GvvXUr5NN0+5u5CAkEbSNnpgDNfDv8AwSS0cx/CLx5rXUah4ouYg3r5ZJ/9qUAfddFFFABRRRQAUUUUAFFFFABRRRQBi+NPD6+LfCOtaI5ATUbOW1Jbph0K/wBa+Tv+CWGted+z7q+gzjy73RPEV7atEeqx/JsJ+uG/KvsuviX9mWP/AIU3+2z8ZvhzOPJtfEUcHiPSYs8CEF1kx75K0AfbVeGftlfDG3+I37Pfju3S1Fxq66RN9iYjJSQKSuPxr3OoL62W8s54HVXSRGQqwyDkYoA8j/ZA8dN8Rf2a/AGtzS+beS6XCl0c5xMqgOPzpfgCx8Ra18QvGAbzLfWNbeG2JHKJbItq6j28yBz+NeD/ALFGu/8ACr/gh8XPBMs5+2eAtYvrYFjkgvv8kfmoAr6e+BWgL4d+EvhqDy/JmubVb+4QjBE9xmaX/wAfkagDvKKKjnj86GSPcyb1K7lOCMjqKAMa1fUbjxZcypqlnNoa2qItjHGDMlxufe7OG+6VKALjqDzzW7XgP7OMkd94u8easBLGt5qJgtLYqVEVtEqqGcf32l87k8kbe2K9+oAKKKKAMPxRJqEtvb22kapZ6dqDzxtm6jEu+IODIoXcOSgYA9s55xW5Xg3xdsRqHx0+GGlWJkS8mv5tS1C4UnclrHayooU/wgyeWCB1yc17zQAUUUUAFFFFABRRRQAUUUUAFRQ2sNuSYoY4i3UooGalooAKKKKACmsqyKVYBlYYKkZBFOooAjht4rddsUaRL1wigD9KkoooA8z/AGmPEn/CI/s+/ETVxJ5UtroN7JE2cfOIX2j88V5T/wAE1/Csnhn9knwpNKmyXWGl1VgRg5kIHP8A3zWN/wAFMvEl6vwJsPA+kOU1zxvq1to1mBzu3SIHGPdWNfS3w18JW/gPwB4f8P2sflQafZRwBMdCFGf1zQB0tFFFABRRRQAUUUUAFFFFABRRRQAV8m/tleG5vh944+Hvx00qJzJ4YvPsWtxwr80+nzbclj6IyD/vqvrKsvxP4csPF/h7UdF1SBLrT76BoJoZFyGVhjpQBb03UrbWNPtr6ymW4tLmNZYpozlXRhkEH0INWa8A/Zoj1j4V3mo/B7XRNcwaBH5vh/VGDFLnTcgRxluzxAqhB5O0kZHNe/0AfnJ4+nn8E/tq+OvhjZ77eH4nLYajDMq4DTxSiaUf98q4/Gv0YijSGNI41CIgCqo6ADoK8n8Wfs96Z4r/AGhPCHxQnlVLrw9p9zaxwbMmSSRo9r5/2VVx/wACr1ugAooooAhgs7e1ZjDBHCWOWMaBc/XFTUUUAFQ3kUk9nPHDL5EzxsqS4zsYjAbHsamooA8z+Hvwn1Lw/wCJI/EvijxAfE3iKLS00mK7WDyUEIKtIxXJ+ZnXcTnuRivTKKKACiiigAooooAKKKKACiiigAooooAKKKKACiiigAoorzj49+PtS8BeAZ20Cyl1LxPqci6dpNrEpO64cH5mPRVRQ7knA+XHUgUAeE3Ea/tGftuQER/afB/wttwWc/NFNqki7gVP96MOnHqtfXteZ/s9/By3+Cvw8t9JMgu9avJX1DV7/HzXV5KxeVyepAZiBnsBXplABRRRQBleFf8AkWdK/wCvWP8A9BFatFFABRRRQAUUUUAFFFFABRRRQBjXX/I0Wf8A1wb+dbNFFABRRRQAUUUUAFFFFABRRRQAUUUUAFFFFABRRRQAUUUUAFFFFABRRRQAUUUUAFFFFABWLrn/ACFNF/6+T/6A1FFAG1RRRQAUUUUAf//Z)"
      ]
    },
    {
      "cell_type": "code",
      "metadata": {
        "id": "WHJRZzu_pDb_"
      },
      "source": [
        "# Maximise Sharpe ratio, ensuring 100% investment 1< allocation\n",
        "\n",
        "def SharpeOpt(rx, covReturns, Rf, noAssets):\n",
        "\n",
        "  # Replicating {=MMULT{=MMULT}}, and maximising sharpe\n",
        "  def minSharpe(x, rx, covReturns, Rf, noAssets):\n",
        "\n",
        "    # This is inplace to catch common error of \n",
        "    denominator = np.sqrt(np.matmul(np.matmul(x.T, covReturns), x))\n",
        "    \n",
        "    numerator = np.matmul(np.array(rx), x.T) - Rf\n",
        "    maxSR = -(numerator / denominator)\n",
        "    return maxSR\n",
        "\n",
        "  # Ensure portfolio allocation fully allocated (100%)\n",
        "  def fullyInvested(x):\n",
        "    weights = np.ones(x.shape)\n",
        "    b=1\n",
        "    constraint = np.matmul(weights, x.T) - b\n",
        "    return constraint\n",
        "\n",
        "  # Define bounds, eg. 0% < 100% allocations. I don't understand xinit, cons \n",
        "  # and bounds I but its the only solution I could find online.\n",
        "  xinit = np.repeat(0.33, noAssets)\n",
        "  constraints = ({'type' : 'eq', 'fun' : fullyInvested})\n",
        "  lower = 0\n",
        "  upper = 1\n",
        "  bnds = tuple([(lower, upper) for x in xinit])\n",
        "\n",
        "  # Actually optimise (minimise minSharpe gives maxSharpe, slightly backwards \n",
        "  # but it works, using sequential least squares)\n",
        "  optimisation = optimize.minimize(minSharpe, x0=xinit, args=(rx, covReturns, Rf, noAssets), method='SLSQP', bounds=bnds, constraints=constraints, tol=10**-3)\n",
        "\n",
        "  return optimisation"
      ],
      "execution_count": 2,
      "outputs": []
    },
    {
      "cell_type": "code",
      "metadata": {
        "id": "_m-Bc60817IF"
      },
      "source": [
        "# Function to compute stock returns \n",
        "def StockReturnsCalc(stockPrices, rows, cols):\n",
        "\n",
        "  # Empty matrix then iterate over every cell in csv (cols = asset, rows = prices)\n",
        "  StockReturns = np.zeros([rows-1, cols])\n",
        "  for j in range(cols):\n",
        "    for i in range(rows-1):\n",
        "      StockReturns[i, j] = ((stockPrices[i+1, j] - stockPrices[i, j]) / stockPrices[i, j]) * 100\n",
        "\n",
        "  return StockReturns"
      ],
      "execution_count": 3,
      "outputs": []
    },
    {
      "cell_type": "code",
      "metadata": {
        "id": "epX03Q3-37Pu"
      },
      "source": [
        "# Variance covariance and mean calculator for csv of our stock selections\n",
        "# This code block is our input \n",
        "\n",
        "securitiesFile = '/content/Target_Vol.csv'        \n",
        "\n",
        "# csv shape  \n",
        "rows = 1050\n",
        "columns = 8\n",
        "\n",
        "df = pd.read_csv(securitiesFile, nrows = rows)\n",
        "assets = df.columns[1:columns+1].tolist()\n",
        "\n",
        "# If we wish to wrangle any more data from price close, set an index to make it easier\n",
        "df.set_index(['Date']) \n",
        "\n",
        "priceData = df.iloc[0:, 1:]\n",
        "\n",
        "# Conver data from csv into array, now on data is referred to as assets because (hopefully)\n",
        "# code is compatible with stocks, bonds, etfs and crypto \n",
        "\n",
        "assetPrices = np.asarray(priceData)\n",
        "[Rows, Cols] = assetPrices.shape\n",
        "assetReturns = StockReturnsCalc(stockPrices=assetPrices, rows=Rows, cols=Cols)\n",
        "\n",
        "np.set_printoptions(precision=3, suppress=True)\n",
        "\n",
        "# Finally calculate\n",
        "meanReturns = np.mean(assetReturns, axis=0)\n",
        "covariance_matrix = np.cov(assetReturns, rowvar=False)\n",
        "\n",
        "print('Portfolio assets are: \\n{}'.format(assets))\n",
        "print('\\nMean returns for assets are respectively: \\n{}'.format(meanReturns))\n",
        "print('\\nCovariance matrix is: \\n {}'.format(covariance_matrix))\n"
      ],
      "execution_count": null,
      "outputs": []
    },
    {
      "cell_type": "code",
      "metadata": {
        "id": "bdw-Jvzy3rLN"
      },
      "source": [
        ""
      ],
      "execution_count": null,
      "outputs": []
    },
    {
      "cell_type": "markdown",
      "metadata": {
        "id": "dDTKYOK5CSks"
      },
      "source": [
        "# Current risk free rate on 10y US treasury = 1.59%, this will need to be changed closer to the time of portfolio construction.\n",
        "# To annualise daily Rf:\n",
        "\n",
        "![Screenshot 2021-03-09 172901.jpg](data:image/jpeg;base64,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)"
      ]
    },
    {
      "cell_type": "code",
      "metadata": {
        "id": "dKiH0E9GCl_n"
      },
      "source": [
        "# Optimisation params, \n",
        "allAssets = columns\n",
        "Rf = 1.59\n",
        "annualRf = 1.59/100\n",
        "\n",
        "dailyRf = (np.power((1 + annualRf), (1 / 360)) -1) * 100\n",
        "print('Apporximate Daily Rf: {}%'.format(np.round(dailyRf, decimals=4)))\n",
        "\n",
        "# Initialise optimisation\n",
        "optimalWeights = []\n",
        "expPfRtn = []\n",
        "minRisk = []\n",
        "sharpeMax = 0\n"
      ],
      "execution_count": null,
      "outputs": []
    },
    {
      "cell_type": "code",
      "metadata": {
        "id": "IwgyBxmoGAjw"
      },
      "source": [
        "# Optimum weights\n",
        "result = SharpeOpt(meanReturns, covariance_matrix, dailyRf, allAssets)\n",
        "optimalWeights.append(result.x)\n",
        "\n",
        "# Risks, expected return and max Sharpe ratio of optimised portfolio\n",
        "weightsArray = np.array(optimalWeights)\n",
        "risk = np.matmul((np.matmul(weightsArray, covariance_matrix)), np.transpose(weightsArray))\n",
        "expReturn = np.matmul(np.array(meanReturns), weightsArray.T)\n",
        "annualRisk = np.sqrt(risk*252)\n",
        "annualReturn = 252*np.array(expReturn)\n",
        "maxSharpeRatio = (annualReturn - Rf) / annualRisk\n",
        "\n",
        "np.set_printoptions(precision=3, suppress=True)\n",
        "print('Max Sharpe Ratio: ', np.around(maxSharpeRatio[0, 0], decimals=3))\n",
        "print('Annualised Risk (%): ', np.around(annualRisk[0, 0], decimals=4), '%')\n",
        "print('Expected Annual Return: ', np.around(annualReturn[0], decimals=4), '%')\n",
        "print('Optimal Weights:\\n', assets, '\\n', weightsArray[0])\n",
        "\n",
        "df_weights = pd.DataFrame(optimalWeights)\n",
        "df_weights"
      ],
      "execution_count": null,
      "outputs": []
    }
  ]
}