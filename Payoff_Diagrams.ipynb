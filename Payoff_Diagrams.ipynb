{
  "nbformat": 4,
  "nbformat_minor": 0,
  "metadata": {
    "colab": {
      "name": "Payoff_Diagrams.ipynb",
      "provenance": [],
      "authorship_tag": "ABX9TyMU5M5s7dFAonzPXZGXg/X7"
    },
    "kernelspec": {
      "name": "python3",
      "display_name": "Python 3"
    },
    "language_info": {
      "name": "python"
    }
  },
  "cells": [
    {
      "cell_type": "code",
      "metadata": {
        "id": "Le7zKE1XY9hI"
      },
      "source": [
        "import numpy as np\n",
        "import matplotlib.pyplot as plt\n",
        "plt.style.use('ggplot')"
      ],
      "execution_count": 2,
      "outputs": []
    },
    {
      "cell_type": "code",
      "metadata": {
        "id": "r7L5BVkjw8LU"
      },
      "source": [
        "# Payoff from strategies using np.where()\n",
        "\n",
        "s0=30 # Initial stock price \n",
        "k=40;c=1; # Strike price and Premium of the option\n",
        "shares = 1 # Shares per lot \n",
        "sT = np.arange(0,2*s0,5) # Stock Price at expiration of the Call\n",
        "\n",
        "# Profit/loss from long/ short stock position\n",
        "y1= (sT-s0) * shares\n",
        "y4 = -y1\n",
        "# Payoff from a Short Call Option\n",
        "y2 = np.where(sT > k,((k - sT) + c) * shares, c * shares)\n",
        "# Payoff from a Covered Call\n",
        "y3 = np.where(sT > k,((k - s0) + c) * shares,((sT- s0) + c) * shares )\n",
        "# Create a plot using matplotlib \n",
        "\n",
        "fig, ax = plt.subplots(figsize=(12,8))\n",
        "ax.spines['top'].set_visible(False)                   # Top border removed \n",
        "ax.spines['right'].set_visible(False)                 # Right border removed\n",
        "ax.spines['bottom'].set_position('zero')              # Sets the X-axis in the center\n",
        "ax.tick_params(top=False, right=False)                # Removes the tick-marks on the RHS\n",
        "\n",
        "\n",
        "plt.plot(sT,y1,lw=1.5,label='Long Stock')\n",
        "plt.plot(sT, y4, lw=1.5, label='Short Stock')\n",
        "plt.plot(sT,y2,lw=1.5,label='Short Call')\n",
        "plt.plot(sT,y3,lw=1.5,label='Covered Call')\n",
        "\n",
        "plt.title(f'Payoffs for Trading Strategies on ${s0} Stock') \n",
        "plt.xlabel('Stock Prices')\n",
        "plt.ylabel('Profit/loss')\n",
        "\n",
        "plt.grid(True)\n",
        "plt.axis('tight')\n",
        "plt.legend(loc=0)\n",
        "plt.show()"
      ],
      "execution_count": null,
      "outputs": []
    },
    {
      "cell_type": "code",
      "metadata": {
        "id": "fVyEeSWCs16i"
      },
      "source": [
        "# Long call option pay-off graph generation, using np.maximum()\n",
        "\n",
        "K = 8000\n",
        "\n",
        "S = np.linspace(7000, 9000, 100)\n",
        "h = np.maximum(S - K, 0)\n",
        "\n",
        "plt.figure(figsize=(12,8))\n",
        "plt.plot(S, h, lw=2.5)\n",
        "plt.title('Option Payoff Diagram', fontsize=30)\n",
        "plt.xlabel('Index level $S_t$ at maturity', fontsize=20)\n",
        "plt.ylabel('Inner value European call option', fontsize=20)\n",
        "plt.grid(True)\n"
      ],
      "execution_count": null,
      "outputs": []
    }
  ]
}